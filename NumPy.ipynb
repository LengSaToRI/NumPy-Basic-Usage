{
 "cells": [
  {
   "cell_type": "code",
   "execution_count": 1,
   "id": "64efb9e1",
   "metadata": {},
   "outputs": [],
   "source": [
    "import numpy as np"
   ]
  },
  {
   "cell_type": "markdown",
   "id": "ce569532",
   "metadata": {},
   "source": [
    "1.利用NumPy中的eye函数创建一个单位矩阵，即主对角线上的元素均为1，其余元素均为0的正方形矩阵"
   ]
  },
  {
   "cell_type": "code",
   "execution_count": 98,
   "id": "f4f74dd8",
   "metadata": {},
   "outputs": [
    {
     "data": {
      "text/plain": [
       "array([[1., 0., 0.],\n",
       "       [0., 1., 0.],\n",
       "       [0., 0., 1.]])"
      ]
     },
     "execution_count": 98,
     "metadata": {},
     "output_type": "execute_result"
    }
   ],
   "source": [
    "np.eye(3)"
   ]
  },
  {
   "cell_type": "markdown",
   "id": "69489e87",
   "metadata": {},
   "source": [
    "2.使用array()方法和arange()方法创建一个一维的整数数组，然后使用astype()方法修改数据类型为float,显示数组；抽取数组中值小于0.5的元素，构成一个新的数组；利用reshape()函数把一维数组转换为二维"
   ]
  },
  {
   "cell_type": "code",
   "execution_count": 99,
   "id": "bfea02ab",
   "metadata": {},
   "outputs": [
    {
     "name": "stdout",
     "output_type": "stream",
     "text": [
      "a= [0.1 0.4 0.3 0.1 1.8 2.4] \n",
      "\n",
      "b= [0.1  0.15 0.2  0.25 0.3  0.35 0.4  0.45 0.5  0.55 0.6  0.65 0.7  0.75\n",
      " 0.8  0.85 0.9  0.95 1.   1.05 1.1  1.15 1.2  1.25 1.3  1.35 1.4  1.45\n",
      " 1.5  1.55 1.6  1.65 1.7  1.75 1.8  1.85 1.9  1.95 2.   2.05 2.1  2.15\n",
      " 2.2  2.25 2.3  2.35 2.4  2.45 2.5  2.55 2.6  2.65 2.7  2.75 2.8  2.85\n",
      " 2.9  2.95] \n",
      "\n",
      "c= [[0.1 0.4]\n",
      " [0.3 0.1]] \n",
      "\n",
      "d= [[0.1  0.15]\n",
      " [0.2  0.25]\n",
      " [0.3  0.35]\n",
      " [0.4  0.45]] \n",
      "\n"
     ]
    }
   ],
   "source": [
    "a=np.array([0.1,0.4,0.3,0.1,1.8,2.4])\n",
    "b=np.arange(0.1,3,0.05)\n",
    "a.astype(float)\n",
    "b.astype(float)\n",
    "print('a=',a,'\\n')\n",
    "print('b=',b,'\\n')\n",
    "\n",
    "c=a[a<0.5]\n",
    "d=b[b<0.5]\n",
    "print('c=',c.reshape(2,2),'\\n')\n",
    "print('d=',d.reshape(4,2),'\\n')"
   ]
  },
  {
   "cell_type": "markdown",
   "id": "4c21b085",
   "metadata": {},
   "source": [
    "3.numpy数组的切分"
   ]
  },
  {
   "cell_type": "code",
   "execution_count": 110,
   "id": "49d839d9",
   "metadata": {},
   "outputs": [
    {
     "name": "stdout",
     "output_type": "stream",
     "text": [
      "A= [[ 1  2  3  4]\n",
      " [ 5  6  7  8]\n",
      " [ 9 10 11 12]] \n",
      "\n",
      "B= [[ 1  2  3]\n",
      " [ 5  6  7]\n",
      " [ 9 10 11]] \n",
      "\n",
      "C= [[ 4]\n",
      " [ 8]\n",
      " [12]] \n",
      "\n",
      "D= [[1 2 3 4]\n",
      " [5 6 7 8]] \n",
      "\n",
      "E= [[ 9 10 11 12]] \n",
      "\n",
      "Max= [ 4  8 12] \n",
      "\n",
      "Ave= 6.5\n"
     ]
    }
   ],
   "source": [
    "A=np.arange(1,13)\n",
    "A=A.reshape(3,4)\n",
    "print('A=',A,'\\n')\n",
    "S=np.hsplit(A,[0,3])\n",
    "B=S[1]\n",
    "C=S[2]\n",
    "print('B=',B,'\\n')\n",
    "print('C=',C,'\\n')\n",
    "N=np.vsplit(A,[2,2])\n",
    "D=N[0]\n",
    "E=N[2]\n",
    "print('D=',D,'\\n')\n",
    "print('E=',E,'\\n')\n",
    "print('Max=',np.amax(A,axis=1),'\\n')\n",
    "print('Ave=',np.average(A))"
   ]
  },
  {
   "cell_type": "markdown",
   "id": "fb1156c1",
   "metadata": {},
   "source": [
    "4.numpy的常用统计函数"
   ]
  },
  {
   "cell_type": "code",
   "execution_count": 119,
   "id": "fd03fed8",
   "metadata": {},
   "outputs": [],
   "source": [
    "from numpy import random"
   ]
  },
  {
   "cell_type": "code",
   "execution_count": 133,
   "id": "3125b020",
   "metadata": {},
   "outputs": [
    {
     "name": "stdout",
     "output_type": "stream",
     "text": [
      "[[ 5  8 11 16]\n",
      " [15  2  9 12]\n",
      " [19  9 19  6]]\n",
      "每一列的和为： [40 38 53] \n",
      "\n",
      "每一行的和为： [39 19 39 34] \n",
      "\n",
      "每一列中的最小值为： [5 2 9 6] \n",
      "\n",
      "每一列中的最大值为： [19  9 19 16] \n",
      "\n",
      "每一列的平均值为： [10.    9.5  13.25] \n",
      "\n",
      "每一行的平均值为： [13.          6.33333333 13.         11.33333333] \n",
      "\n"
     ]
    }
   ],
   "source": [
    "arr1=random.randint(1,20,size=(3,4))\n",
    "print(arr1)\n",
    "print('每一列的和为：',np.sum(arr1,axis=1),'\\n')\n",
    "print('每一行的和为：',np.sum(arr1,axis=0),'\\n')\n",
    "print('每一列中的最小值为：',np.amin(arr1,0),'\\n')\n",
    "print('每一列中的最大值为：',np.amax(arr1,0),'\\n')\n",
    "print('每一列的平均值为：',np.average(arr1,axis=1),'\\n')\n",
    "print('每一行的平均值为：',np.average(arr1,axis=0),'\\n')"
   ]
  },
  {
   "cell_type": "code",
   "execution_count": null,
   "id": "ef76f2c7",
   "metadata": {},
   "outputs": [],
   "source": []
  }
 ],
 "metadata": {
  "kernelspec": {
   "display_name": "Python 3 (ipykernel)",
   "language": "python",
   "name": "python3"
  },
  "language_info": {
   "codemirror_mode": {
    "name": "ipython",
    "version": 3
   },
   "file_extension": ".py",
   "mimetype": "text/x-python",
   "name": "python",
   "nbconvert_exporter": "python",
   "pygments_lexer": "ipython3",
   "version": "3.9.13"
  }
 },
 "nbformat": 4,
 "nbformat_minor": 5
}
